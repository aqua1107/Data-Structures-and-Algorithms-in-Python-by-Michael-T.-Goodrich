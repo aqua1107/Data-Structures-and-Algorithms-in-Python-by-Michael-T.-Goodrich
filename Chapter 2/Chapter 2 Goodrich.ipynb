{
 "cells": [
  {
   "cell_type": "markdown",
   "id": "e51cb14c-3c84-4c6f-90a2-d89290550425",
   "metadata": {},
   "source": [
    "# R-2.1\n",
    "## 신용카드 정보관리 시스템, 의료정보 시스템, 스마트폰 이용내역 데이터저장소, 자동차 사용정보 저장소"
   ]
  },
  {
   "cell_type": "markdown",
   "id": "81501519-da6e-49ad-bb4d-e239f3f967e7",
   "metadata": {},
   "source": [
    "# R-2.2\n",
    "## 관제탑 네트워크 시스템"
   ]
  },
  {
   "cell_type": "code",
   "execution_count": null,
   "id": "9f932251-9d68-45bb-9fe5-10f9bc639c79",
   "metadata": {},
   "outputs": [
    {
     "name": "stdout",
     "output_type": "stream",
     "text": [
      "Rose\n",
      "5\n",
      "2.99\n",
      "Tulip\n",
      "6\n",
      "3.49\n"
     ]
    }
   ],
   "source": [
    "#R-2.4\n",
    "\n",
    "class Flower:\n",
    "\n",
    "    def __init__(self, name, petals, price):\n",
    "        self.name = name\n",
    "        self.petals = petals\n",
    "        self.price = price\n",
    "\n",
    "    def get_name(self):\n",
    "        return self.name\n",
    "\n",
    "    def set_name(self, new_name):\n",
    "        self.name = new_name\n",
    "\n",
    "    def get_petals(self):\n",
    "        return self.petals\n",
    "    \n",
    "    def set_petals(self, num):\n",
    "        self.petals = num\n",
    "\n",
    "    def get_price(self):\n",
    "        return self.price\n",
    "    \n",
    "    def set_price(self, new_price):\n",
    "        self.price = new_price\n",
    "\n",
    "flower = Flower(\"Rose\", 5, 2.99)\n",
    "\n",
    "print(flower.get_name())\n",
    "print(flower.get_petals())\n",
    "print(flower.get_price()) \n",
    "\n",
    "flower.set_name(\"Tulip\")\n",
    "flower.set_petals(6)\n",
    "flower.set_price(3.49)\n",
    "\n",
    "print(flower.get_name())  \n",
    "print(flower.get_petals())\n",
    "print(flower.get_price())"
   ]
  },
  {
   "cell_type": "code",
   "execution_count": null,
   "id": "45688ba7-01c4-40a5-9e57-6e58c7cdd618",
   "metadata": {},
   "outputs": [
    {
     "name": "stdout",
     "output_type": "stream",
     "text": [
      "50\n",
      "Error: Payment amount must be a number.\n",
      "Error: Payment amount cannot be negative.\n"
     ]
    }
   ],
   "source": [
    "#R-2.5 ~ #R-2.6\n",
    "\n",
    "class CreditCard:\n",
    "    \n",
    "    def __init__(self, customer, bank, account, limit):\n",
    "        self._customer = customer\n",
    "        self._bank = bank\n",
    "        self._account = account\n",
    "        self._limit = limit\n",
    "        self._balance = 0\n",
    "\n",
    "    def get_customer(self):\n",
    "        return self._customer\n",
    "\n",
    "    def get_bank(self):\n",
    "        return self._bank\n",
    "\n",
    "    def get_account(self):\n",
    "        return self._account\n",
    "\n",
    "    def get_limit(self):\n",
    "        return self._limit\n",
    "\n",
    "    def get_balance(self):\n",
    "        return self._balance\n",
    "\n",
    "    def charge(self, price):\n",
    "        if price + self._balance > self._limit:\n",
    "            return False\n",
    "        else:\n",
    "            self._balance += price\n",
    "            return True\n",
    "\n",
    "    def make_payment(self, amount):\n",
    "        try:\n",
    "            if not isinstance(amount, (int, float)):\n",
    "                raise ValueError(\"Payment amount must be a number.\")\n",
    "\n",
    "            elif amount < 0:\n",
    "                raise ValueError(\"Payment amount cannot be negative.\")\n",
    "            \n",
    "            elif amount > self._balance:\n",
    "                self._balance = 0 \n",
    "            else:\n",
    "                self._balance -= amount\n",
    "\n",
    "        except ValueError as e:\n",
    "            print(f\"Error: {e}\")\n",
    "        except Exception as e:\n",
    "            print(f\"An unexpected error occurred: {e}\")\n",
    "\n",
    "\n",
    "card = CreditCard(\"Alice\", \"BankX\", \"123456\", 5000)\n",
    "\n",
    "card.charge(100)\n",
    "\n",
    "card.make_payment(50)\n",
    "\n",
    "print(card._balance)\n",
    "\n",
    "card.make_payment(\"fifty\")\n",
    "\n",
    "card.make_payment(-10)\n"
   ]
  },
  {
   "cell_type": "code",
   "execution_count": null,
   "id": "e5392f7c-aa74-4335-bfe9-53f32136ca0a",
   "metadata": {},
   "outputs": [],
   "source": [
    "#R-2.7\n",
    "class CreditCard:\n",
    "    def __init__(self, customer, bank, account, limit, balance=0):\n",
    "        self._customer = customer\n",
    "        self._bank = bank\n",
    "        self._account = account\n",
    "        self._limit = limit\n",
    "        self._balance = balance\n",
    "\n",
    "    def get_customer(self):\n",
    "        return self._customer\n",
    "\n",
    "    def get_bank(self):\n",
    "        return self._bank\n",
    "\n",
    "    def get_account(self):\n",
    "        return self._account\n",
    "\n",
    "    def get_limit(self):\n",
    "        return self._limit\n",
    "\n",
    "    def get_balance(self):\n",
    "        return self._balance\n",
    "\n",
    "    def charge(self, price):\n",
    "        if price + self._balance > self._limit:\n",
    "            return False\n",
    "        else:\n",
    "            self._balance += price\n",
    "            return True\n",
    "\n",
    "    def make_payment(self, amount):\n",
    "        self._balance -= amount"
   ]
  }
 ],
 "metadata": {
  "kernelspec": {
   "display_name": "Python 3 (ipykernel)",
   "language": "python",
   "name": "python3"
  },
  "language_info": {
   "codemirror_mode": {
    "name": "ipython",
    "version": 3
   },
   "file_extension": ".py",
   "mimetype": "text/x-python",
   "name": "python",
   "nbconvert_exporter": "python",
   "pygments_lexer": "ipython3",
   "version": "3.12.4"
  }
 },
 "nbformat": 4,
 "nbformat_minor": 5
}
